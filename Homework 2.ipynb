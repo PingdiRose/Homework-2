{
 "cells": [
  {
   "cell_type": "code",
   "execution_count": null,
   "id": "bf6acb7d",
   "metadata": {},
   "outputs": [],
   "source": [
    "#1-Round 4.5667 to the nearest hundreth (2 decimals) using a build-in function, round()."
   ]
  },
  {
   "cell_type": "code",
   "execution_count": 1,
   "id": "a2d51bcd",
   "metadata": {},
   "outputs": [
    {
     "data": {
      "text/plain": [
       "5"
      ]
     },
     "execution_count": 1,
     "metadata": {},
     "output_type": "execute_result"
    }
   ],
   "source": [
    "round(4.5667)"
   ]
  },
  {
   "cell_type": "code",
   "execution_count": 2,
   "id": "d12b7b8f",
   "metadata": {},
   "outputs": [
    {
     "data": {
      "text/plain": [
       "4.57"
      ]
     },
     "execution_count": 2,
     "metadata": {},
     "output_type": "execute_result"
    }
   ],
   "source": [
    "round(4.5667,2)"
   ]
  },
  {
   "cell_type": "code",
   "execution_count": null,
   "id": "e763a72b",
   "metadata": {},
   "outputs": [],
   "source": [
    "# Convert \"657\" to an integer data type"
   ]
  },
  {
   "cell_type": "code",
   "execution_count": 3,
   "id": "73c85a86",
   "metadata": {},
   "outputs": [
    {
     "data": {
      "text/plain": [
       "657"
      ]
     },
     "execution_count": 3,
     "metadata": {},
     "output_type": "execute_result"
    }
   ],
   "source": [
    "int(\"657\")"
   ]
  },
  {
   "cell_type": "code",
   "execution_count": null,
   "id": "ee3105e4",
   "metadata": {},
   "outputs": [],
   "source": [
    "#Write a program to get two numbers from a user. \n",
    "#Then, create a 6-digit code that is a series of randomly generated numbers between the two numbers given by the user. \n",
    "#Print the 6-digit code so all digits are separated by a dash."
   ]
  },
  {
   "cell_type": "code",
   "execution_count": 4,
   "id": "d153fcb8",
   "metadata": {},
   "outputs": [],
   "source": [
    "import random as rand"
   ]
  },
  {
   "cell_type": "code",
   "execution_count": 9,
   "id": "224ae95b",
   "metadata": {},
   "outputs": [
    {
     "name": "stdout",
     "output_type": "stream",
     "text": [
      "please enter the first number: 27\n",
      "please enter the second number: 100\n"
     ]
    }
   ],
   "source": [
    "n1=int(input(\"please enter the first number: \"))\n",
    "n2=int(input(\"please enter the second number: \"))"
   ]
  },
  {
   "cell_type": "code",
   "execution_count": 8,
   "id": "b488a318",
   "metadata": {},
   "outputs": [],
   "source": [
    "d1=rand.randint(n1,n2)\n",
    "d2=rand.randint(n1,n2)\n",
    "d3=rand.randint(n1,n2)\n",
    "d4=rand.randint(n1,n2)\n",
    "d5=rand.randint(n1,n2)\n",
    "d6=rand.randint(n1,n2)"
   ]
  },
  {
   "cell_type": "code",
   "execution_count": 11,
   "id": "1427de9f",
   "metadata": {},
   "outputs": [
    {
     "name": "stdout",
     "output_type": "stream",
     "text": [
      "42-76-47-39-36-36\n"
     ]
    }
   ],
   "source": [
    "print(f\"{d1}-{d2}-{d3}-{d4}-{d5}-{d5}\")"
   ]
  },
  {
   "cell_type": "code",
   "execution_count": null,
   "id": "d200733f",
   "metadata": {},
   "outputs": [],
   "source": [
    "#Write a program to remove ALL the white spaces from the following text:\n",
    "\n",
    " #Hickory, dickory, dock,     \n",
    " #The mouse ran up the clock.   \n",
    " #The clock struck one,   \n",
    " #The mouse ran down,                      \n",
    " #Hickory, dickory, dock  "
   ]
  },
  {
   "cell_type": "code",
   "execution_count": 13,
   "id": "eb96953b",
   "metadata": {},
   "outputs": [],
   "source": [
    " l1='Hickory, dickory, dock, '    \n",
    " l2='he mouse ran up the clock.'   \n",
    " l3='The clock struck one, '  \n",
    " l4='The mouse ran down,  '                    \n",
    " l5='Hickory, dickory, dock'"
   ]
  },
  {
   "cell_type": "code",
   "execution_count": 14,
   "id": "c8df431f",
   "metadata": {},
   "outputs": [],
   "source": [
    "l1=l1.strip()\n",
    "l2=l2.strip()\n",
    "l3=l3.strip()\n",
    "l4=l4.strip()\n",
    "l5=l5.strip()"
   ]
  },
  {
   "cell_type": "code",
   "execution_count": 15,
   "id": "e3c46036",
   "metadata": {},
   "outputs": [
    {
     "name": "stdout",
     "output_type": "stream",
     "text": [
      "Hickory, dickory, dock,\n",
      "he mouse ran up the clock.\n",
      "The clock struck one,\n",
      "The mouse ran down,\n",
      "Hickory, dickory, dock\n"
     ]
    }
   ],
   "source": [
    "print(l1)\n",
    "print(l2)\n",
    "print(l3)\n",
    "print(l4)\n",
    "print(l5)"
   ]
  },
  {
   "cell_type": "code",
   "execution_count": 19,
   "id": "273f1027",
   "metadata": {},
   "outputs": [],
   "source": [
    "#Write a function to calculate the miles per gallon. \n",
    "#Get a miles driven and gallons used from a user and call your function to calculate the miles per gallon."
   ]
  },
  {
   "cell_type": "code",
   "execution_count": 69,
   "id": "2190c87b",
   "metadata": {},
   "outputs": [
    {
     "name": "stdout",
     "output_type": "stream",
     "text": [
      "enter the miles :12\n",
      "enter the gallons :4\n",
      "48.0\n"
     ]
    }
   ],
   "source": [
    "def calcul(miles,gallons):\n",
    "    miles = float(input(\"enter the miles :\"))\n",
    "    gallons = float(input('enter the gallons :'))\n",
    "    result = miles*gallons\n",
    "    print(result)\n",
    "calcul(miles,gallons)    "
   ]
  },
  {
   "cell_type": "code",
   "execution_count": 61,
   "id": "fb738040",
   "metadata": {},
   "outputs": [],
   "source": [
    "def calcul(miles,gallons):\n",
    "    result = miles*gallons\n",
    "    print(result)"
   ]
  },
  {
   "cell_type": "code",
   "execution_count": 62,
   "id": "c36d138e",
   "metadata": {},
   "outputs": [
    {
     "name": "stdout",
     "output_type": "stream",
     "text": [
      "enter the miles :56\n",
      "enter the gallons :43\n",
      "2408.0\n"
     ]
    }
   ],
   "source": [
    "miles = float(input(\"enter the miles :\"))\n",
    "gallons = float(input('enter the gallons :'))\n",
    "calcul(miles,gallons)    "
   ]
  },
  {
   "cell_type": "code",
   "execution_count": null,
   "id": "ea4fc179",
   "metadata": {},
   "outputs": [],
   "source": [
    "#Enhance the compute() function created during Module 2. \n",
    "#Enhance the function to compute a circle's area and circumference where:\n",
    "\n",
    "#circle's area = 3.14 X (radius X radius)\n",
    "#circle's circumference = 3.14 X diameter"
   ]
  },
  {
   "cell_type": "code",
   "execution_count": 29,
   "id": "56405e8b",
   "metadata": {},
   "outputs": [],
   "source": [
    "def compute(l,w):\n",
    "    a=l*w*2\n",
    "    p=(l+w)*2\n",
    "    print(f\"the Area is {a}\")\n",
    "    print(\"=\"*9)\n",
    "    print(f\"the Perimeter is {p}\") "
   ]
  },
  {
   "cell_type": "code",
   "execution_count": 30,
   "id": "3372557f",
   "metadata": {},
   "outputs": [
    {
     "name": "stdout",
     "output_type": "stream",
     "text": [
      "please enter the lenght15\n",
      "please enter the width8\n",
      "the Area is 240.0\n",
      "=========\n",
      "the Perimeter is 46.0\n"
     ]
    }
   ],
   "source": [
    "l=float(input(\"please enter the lenght\"))\n",
    "w=float(input(\"please enter the width\"))\n",
    "compute(l,w)"
   ]
  },
  {
   "cell_type": "code",
   "execution_count": null,
   "id": "82d8e361",
   "metadata": {},
   "outputs": [],
   "source": [
    "Write a function called multiply_two() that accepts two parameters. The function should print a message like '15 * 2 = 30'. \n",
    "Randomly generate two numbers between 1 and 100, then call the function with the two random numbers."
   ]
  },
  {
   "cell_type": "code",
   "execution_count": null,
   "id": "a706fce8",
   "metadata": {},
   "outputs": [],
   "source": [
    "import random as rand"
   ]
  },
  {
   "cell_type": "code",
   "execution_count": 77,
   "id": "d2c0a0e9",
   "metadata": {},
   "outputs": [],
   "source": [
    "def multiply_two (x,y):\n",
    "    print(x*y)\n",
    "     "
   ]
  },
  {
   "cell_type": "code",
   "execution_count": 79,
   "id": "f9de059c",
   "metadata": {},
   "outputs": [
    {
     "name": "stdout",
     "output_type": "stream",
     "text": [
      "4508\n"
     ]
    }
   ],
   "source": [
    "x=rand.randint(1,100)\n",
    "y=rand.randint(1,100)\n",
    "multiply_two (x,y) "
   ]
  },
  {
   "cell_type": "code",
   "execution_count": null,
   "id": "5dcc8e03",
   "metadata": {},
   "outputs": [],
   "source": [
    "Create a function for a multiplication table. \n",
    "Get a number from a user and then call you function which produces a multiplication table for that number. \n",
    "The output should look something like this:"
   ]
  },
  {
   "cell_type": "code",
   "execution_count": null,
   "id": "f8fb6989",
   "metadata": {},
   "outputs": [],
   "source": [
    " #Enter a number: 3\n",
    " #3 X 1 = 3\n",
    " #3 X 2 = 6\n",
    " #3 X 3 = 9\n",
    " #3 X 4 = 12\n",
    " #3 X 5 = 15\n",
    " #3 X 6 = 18\n",
    " #3 X 7 = 21\n",
    " #3 X 8 = 24\n",
    " #3 X 9 = 27"
   ]
  },
  {
   "cell_type": "code",
   "execution_count": 96,
   "id": "a0801e69",
   "metadata": {},
   "outputs": [],
   "source": [
    "def multiply(n):\n",
    "    print(f\"{x} x 1={x * 1}\")\n",
    "    print(f\"{x} x 2={x * 2}\")\n",
    "    print(f\"{x} x 3= {x * 3}\")\n",
    "    print(f\"{x} x 4={x * 4}\")\n",
    "    print(f\"{x} x 5={x * 5}\")\n",
    "    print(f\"{x} x 6={x * 6}\")\n",
    "    print(f\"{x} x 7={x * 7}\")\n",
    "    print(f\"{x} x 8={x * 8}\")\n",
    "    print(f\"{x} x 9={x * 9}\")\n",
    "    print(f\"{x} x 10={x * 10}\")\n",
    "   "
   ]
  },
  {
   "cell_type": "code",
   "execution_count": 98,
   "id": "991ac0a6",
   "metadata": {},
   "outputs": [
    {
     "name": "stdout",
     "output_type": "stream",
     "text": [
      "enter a number2\n",
      "2 x 1=2\n",
      "2 x 2=22\n",
      "2 x 3= 222\n",
      "2 x 4=2222\n",
      "2 x 5=22222\n",
      "2 x 6=222222\n",
      "2 x 7=2222222\n",
      "2 x 8=22222222\n",
      "2 x 9=222222222\n",
      "2 x 10=2222222222\n"
     ]
    }
   ],
   "source": [
    "x=input(\"enter a number\")\n",
    "multiply(n)"
   ]
  },
  {
   "cell_type": "code",
   "execution_count": null,
   "id": "9e27a792",
   "metadata": {},
   "outputs": [],
   "source": []
  }
 ],
 "metadata": {
  "kernelspec": {
   "display_name": "Python 3",
   "language": "python",
   "name": "python3"
  },
  "language_info": {
   "codemirror_mode": {
    "name": "ipython",
    "version": 3
   },
   "file_extension": ".py",
   "mimetype": "text/x-python",
   "name": "python",
   "nbconvert_exporter": "python",
   "pygments_lexer": "ipython3",
   "version": "3.8.8"
  }
 },
 "nbformat": 4,
 "nbformat_minor": 5
}
